{
  "cells": [
    {
      "cell_type": "markdown",
      "metadata": {
        "id": "view-in-github",
        "colab_type": "text"
      },
      "source": [
        "<a href=\"https://colab.research.google.com/github/ManideepAnnarapu/Health-Insurance-Claims-Prediction/blob/main/Model_Deployment.ipynb\" target=\"_parent\"><img src=\"https://colab.research.google.com/assets/colab-badge.svg\" alt=\"Open In Colab\"/></a>"
      ]
    },
    {
      "cell_type": "code",
      "execution_count": 1,
      "id": "f6eeb8a7",
      "metadata": {
        "id": "f6eeb8a7"
      },
      "outputs": [],
      "source": [
        "from flask import Flask, render_template, request\n",
        "import joblib"
      ]
    },
    {
      "cell_type": "code",
      "execution_count": 2,
      "id": "51ad8456",
      "metadata": {
        "colab": {
          "base_uri": "https://localhost:8080/",
          "height": 74
        },
        "id": "51ad8456",
        "outputId": "43d63dc0-9df9-4cc8-9831-66463bd5935c"
      },
      "outputs": [
        {
          "output_type": "execute_result",
          "data": {
            "text/plain": [
              "RandomForestRegressor()"
            ],
            "text/html": [
              "<style>#sk-container-id-1 {color: black;}#sk-container-id-1 pre{padding: 0;}#sk-container-id-1 div.sk-toggleable {background-color: white;}#sk-container-id-1 label.sk-toggleable__label {cursor: pointer;display: block;width: 100%;margin-bottom: 0;padding: 0.3em;box-sizing: border-box;text-align: center;}#sk-container-id-1 label.sk-toggleable__label-arrow:before {content: \"▸\";float: left;margin-right: 0.25em;color: #696969;}#sk-container-id-1 label.sk-toggleable__label-arrow:hover:before {color: black;}#sk-container-id-1 div.sk-estimator:hover label.sk-toggleable__label-arrow:before {color: black;}#sk-container-id-1 div.sk-toggleable__content {max-height: 0;max-width: 0;overflow: hidden;text-align: left;background-color: #f0f8ff;}#sk-container-id-1 div.sk-toggleable__content pre {margin: 0.2em;color: black;border-radius: 0.25em;background-color: #f0f8ff;}#sk-container-id-1 input.sk-toggleable__control:checked~div.sk-toggleable__content {max-height: 200px;max-width: 100%;overflow: auto;}#sk-container-id-1 input.sk-toggleable__control:checked~label.sk-toggleable__label-arrow:before {content: \"▾\";}#sk-container-id-1 div.sk-estimator input.sk-toggleable__control:checked~label.sk-toggleable__label {background-color: #d4ebff;}#sk-container-id-1 div.sk-label input.sk-toggleable__control:checked~label.sk-toggleable__label {background-color: #d4ebff;}#sk-container-id-1 input.sk-hidden--visually {border: 0;clip: rect(1px 1px 1px 1px);clip: rect(1px, 1px, 1px, 1px);height: 1px;margin: -1px;overflow: hidden;padding: 0;position: absolute;width: 1px;}#sk-container-id-1 div.sk-estimator {font-family: monospace;background-color: #f0f8ff;border: 1px dotted black;border-radius: 0.25em;box-sizing: border-box;margin-bottom: 0.5em;}#sk-container-id-1 div.sk-estimator:hover {background-color: #d4ebff;}#sk-container-id-1 div.sk-parallel-item::after {content: \"\";width: 100%;border-bottom: 1px solid gray;flex-grow: 1;}#sk-container-id-1 div.sk-label:hover label.sk-toggleable__label {background-color: #d4ebff;}#sk-container-id-1 div.sk-serial::before {content: \"\";position: absolute;border-left: 1px solid gray;box-sizing: border-box;top: 0;bottom: 0;left: 50%;z-index: 0;}#sk-container-id-1 div.sk-serial {display: flex;flex-direction: column;align-items: center;background-color: white;padding-right: 0.2em;padding-left: 0.2em;position: relative;}#sk-container-id-1 div.sk-item {position: relative;z-index: 1;}#sk-container-id-1 div.sk-parallel {display: flex;align-items: stretch;justify-content: center;background-color: white;position: relative;}#sk-container-id-1 div.sk-item::before, #sk-container-id-1 div.sk-parallel-item::before {content: \"\";position: absolute;border-left: 1px solid gray;box-sizing: border-box;top: 0;bottom: 0;left: 50%;z-index: -1;}#sk-container-id-1 div.sk-parallel-item {display: flex;flex-direction: column;z-index: 1;position: relative;background-color: white;}#sk-container-id-1 div.sk-parallel-item:first-child::after {align-self: flex-end;width: 50%;}#sk-container-id-1 div.sk-parallel-item:last-child::after {align-self: flex-start;width: 50%;}#sk-container-id-1 div.sk-parallel-item:only-child::after {width: 0;}#sk-container-id-1 div.sk-dashed-wrapped {border: 1px dashed gray;margin: 0 0.4em 0.5em 0.4em;box-sizing: border-box;padding-bottom: 0.4em;background-color: white;}#sk-container-id-1 div.sk-label label {font-family: monospace;font-weight: bold;display: inline-block;line-height: 1.2em;}#sk-container-id-1 div.sk-label-container {text-align: center;}#sk-container-id-1 div.sk-container {/* jupyter's `normalize.less` sets `[hidden] { display: none; }` but bootstrap.min.css set `[hidden] { display: none !important; }` so we also need the `!important` here to be able to override the default hidden behavior on the sphinx rendered scikit-learn.org. See: https://github.com/scikit-learn/scikit-learn/issues/21755 */display: inline-block !important;position: relative;}#sk-container-id-1 div.sk-text-repr-fallback {display: none;}</style><div id=\"sk-container-id-1\" class=\"sk-top-container\"><div class=\"sk-text-repr-fallback\"><pre>RandomForestRegressor()</pre><b>In a Jupyter environment, please rerun this cell to show the HTML representation or trust the notebook. <br />On GitHub, the HTML representation is unable to render, please try loading this page with nbviewer.org.</b></div><div class=\"sk-container\" hidden><div class=\"sk-item\"><div class=\"sk-estimator sk-toggleable\"><input class=\"sk-toggleable__control sk-hidden--visually\" id=\"sk-estimator-id-1\" type=\"checkbox\" checked><label for=\"sk-estimator-id-1\" class=\"sk-toggleable__label sk-toggleable__label-arrow\">RandomForestRegressor</label><div class=\"sk-toggleable__content\"><pre>RandomForestRegressor()</pre></div></div></div></div></div>"
            ]
          },
          "metadata": {},
          "execution_count": 2
        }
      ],
      "source": [
        "model = joblib.load('model.pkl')\n",
        "model"
      ]
    },
    {
      "cell_type": "code",
      "execution_count": 3,
      "id": "2d84cec6",
      "metadata": {
        "id": "2d84cec6"
      },
      "outputs": [],
      "source": [
        "app = Flask(__name__)"
      ]
    },
    {
      "cell_type": "code",
      "execution_count": 4,
      "id": "307dc000",
      "metadata": {
        "id": "307dc000"
      },
      "outputs": [],
      "source": [
        "city_names = ['NewYork', 'Boston', 'Phildelphia', 'Pittsburg', 'Buffalo',\n",
        "       'AtlanticCity', 'Portland', 'Cambridge', 'Hartford', 'Springfield',\n",
        "       'Syracuse', 'Baltimore', 'York', 'Trenton', 'Warwick',\n",
        "       'WashingtonDC', 'Providence', 'Harrisburg', 'Newport', 'Stamford',\n",
        "       'Worcester', 'Atlanta', 'Brimingham', 'Charleston', 'Charlotte',\n",
        "       'Louisville', 'Memphis', 'Nashville', 'NewOrleans', 'Raleigh',\n",
        "       'Houston', 'Georgia', 'Oklahoma', 'Orlando', 'Macon', 'Huntsville',\n",
        "       'Knoxville', 'Florence', 'Miami', 'Tampa', 'PanamaCity',\n",
        "       'Kingsport', 'Marshall', 'Mandan', 'Waterloo', 'IowaCity',\n",
        "       'Columbia', 'Indianapolis', 'Cincinnati', 'Bloomington', 'Salina',\n",
        "       'KanasCity', 'Brookings', 'Minot', 'Chicago', 'Lincoln',\n",
        "       'FallsCity', 'GrandForks', 'Fargo', 'Cleveland', 'Canton',\n",
        "       'Columbus', 'Rochester', 'Minneapolis', 'JeffersonCity',\n",
        "       'Escabana', 'Youngstown', 'SantaRosa', 'Eureka', 'SanFrancisco',\n",
        "       'SanJose', 'LosAngeles', 'Oxnard', 'SanDeigo', 'Oceanside',\n",
        "       'Carlsbad', 'Montrose', 'Prescott', 'Fresno', 'Reno', 'LasVegas',\n",
        "       'Tucson', 'SanLuis', 'Denver', 'Kingman', 'Bakersfield',\n",
        "       'Mexicali', 'SilverCity', 'Pheonix', 'SantaFe', 'Lovelock']\n",
        "cities = dict(zip(city_names,[55,  5, 63, 64,  8,  1, 65,  9, 29, 79, 81,  3, 89, 83, 85, 86, 67,\n",
        "       28, 56, 80, 88,  0,  6, 12, 13, 42, 47, 53, 54, 68, 30, 26, 58, 59,\n",
        "       44, 31, 38, 24, 49, 82, 61, 37, 46, 45, 87, 33, 17, 32, 15,  4, 71,\n",
        "       35,  7, 51, 14, 40, 22, 27, 23, 16, 10, 18, 70, 50, 34, 20, 90, 77,\n",
        "       21, 73, 74, 41, 60, 72, 57, 11, 52, 66, 25, 69, 39, 84, 75, 19, 36,\n",
        "        2, 48, 78, 62, 76, 43]))\n",
        "job_names = ['Actor', 'Engineer', 'Academician', 'Chef', 'HomeMakers', 'Dancer',\n",
        "       'Singer', 'DataScientist', 'Police', 'Student', 'Doctor',\n",
        "       'Manager', 'Photographer', 'Beautician', 'CA', 'Blogger', 'CEO',\n",
        "       'Labourer', 'Accountant', 'FilmDirector', 'Technician',\n",
        "       'FashionDesigner', 'Architect', 'HouseKeeper', 'FilmMaker',\n",
        "       'Buisnessman', 'Politician', 'DefencePersonnels', 'Analyst',\n",
        "       'Clerks', 'ITProfessional', 'Farmer', 'Journalist', 'Lawyer',\n",
        "       'GovEmployee']\n",
        "job_titles = dict(zip(job_names,[ 2, 16,  0, 10, 22, 12, 32, 13, 30, 33, 15, 28, 29,  5,  8,  6,  9,\n",
        "       26,  1, 19, 34, 18,  4, 23, 20,  7, 31, 14,  3, 11, 24, 17, 25, 27,\n",
        "       21]))\n",
        "disease_names = ['NoDisease', 'Epilepsy', 'EyeDisease', 'Alzheimer', 'Arthritis',\n",
        "       'HeartDisease', 'Diabetes', 'Cancer', 'High BP', 'Obesity']\n",
        "diseases = dict(zip(disease_names,[8, 4, 5, 0, 1, 6, 3, 2, 7, 9]))"
      ]
    },
    {
      "cell_type": "code",
      "execution_count": 5,
      "id": "f41ce5a0",
      "metadata": {
        "id": "f41ce5a0"
      },
      "outputs": [],
      "source": [
        "@app.route(\"/\")\n",
        "def home():\n",
        "    return render_template('home.html',cities=city_names,jobs=job_names,hereditary_diseases=disease_names)"
      ]
    },
    {
      "cell_type": "code",
      "execution_count": 6,
      "id": "821ed4b8",
      "metadata": {
        "id": "821ed4b8"
      },
      "outputs": [],
      "source": [
        "@app.route(\"/predict\", methods = ['GET','POST'])\n",
        "def predict():\n",
        "    if request.method == 'POST':\n",
        "        age = request.form['age'] #age range: (18,64)\n",
        "        sex_select = request.form['sex'] #male: 1 female: 0\n",
        "        sex = 0\n",
        "        if sex_select == 'MALE':\n",
        "            sex = 1\n",
        "        elif sex_select == 'FEMALE':\n",
        "            sex = 0\n",
        "        weight = request.form['weight'] #weight range: (34.0,95.0) (float)\n",
        "        bmi = request.form['bmi'] #bmi range: (16.0,53.1) (float)\n",
        "        dis_selected = request.form['disease']\n",
        "        hereditary_disease = diseases[dis_selected]\n",
        "        no_of_dependents = request.form['no_dependents'] # nod range: (0,5)\n",
        "        smoke_select = request.form['smoke']\n",
        "        smoker = 0\n",
        "        if smoke_select == 'YES':\n",
        "            smoker = 1\n",
        "        elif smoke_select == 'NO':\n",
        "            smoker = 0\n",
        "        city_select = request.form['city']\n",
        "        city = cities[city_select]\n",
        "        bp = request.form['blood_pressure'] # BP range: (0,122) Integer\n",
        "        diab_select = request.form['diabetes']\n",
        "        diabetes = 0\n",
        "        if diab_select == 'YES':\n",
        "            diabetes = 1\n",
        "        elif diab_select == 'NO':\n",
        "            diabetes = 0\n",
        "        reg_ex_select = request.form['regular_exercise']\n",
        "        regular_exercise = 0\n",
        "        if reg_ex_select == 'YES':\n",
        "            regular_exercise = 1\n",
        "        elif reg_ex_select == 'NO':\n",
        "            regular_exercise = 0\n",
        "        job_title_selected = request.form['job_title']\n",
        "        job_title = job_titles[job_title_selected]\n",
        "\n",
        "        predictions = model.predict([[\n",
        "            age,\n",
        "            sex,\n",
        "            weight,\n",
        "            bmi,\n",
        "            hereditary_disease,\n",
        "            no_of_dependents,\n",
        "            smoker,\n",
        "            city,\n",
        "            bp,\n",
        "            diabetes,\n",
        "            regular_exercise,\n",
        "            job_title\n",
        "        ]])\n",
        "\n",
        "        output = predictions[0]\n",
        "        output = output * 12147.834670761482\n",
        "        output = \"%.3f\" % output\n",
        "        output = float(output)\n",
        "        output = format(output, ',')\n",
        "        return render_template('home.html',cities=city_names,jobs=job_names,hereditary_diseases=disease_names,prediction_text=\"Your estimated health insurance claim is ${}.\".format(output))"
      ]
    },
    {
      "cell_type": "code",
      "execution_count": 9,
      "id": "01b39afc",
      "metadata": {
        "colab": {
          "base_uri": "https://localhost:8080/"
        },
        "id": "01b39afc",
        "outputId": "f1945971-0f8f-46d5-81d8-dce124018e55"
      },
      "outputs": [
        {
          "output_type": "stream",
          "name": "stdout",
          "text": [
            " * Serving Flask app '__main__'\n",
            " * Debug mode: off\n"
          ]
        },
        {
          "output_type": "stream",
          "name": "stderr",
          "text": [
            "INFO:werkzeug:\u001b[31m\u001b[1mWARNING: This is a development server. Do not use it in a production deployment. Use a production WSGI server instead.\u001b[0m\n",
            " * Running on http://127.0.0.1:8081\n",
            "INFO:werkzeug:\u001b[33mPress CTRL+C to quit\u001b[0m\n"
          ]
        }
      ],
      "source": [
        "if __name__ == '__main__':\n",
        "    app.run(port=8081)"
      ]
    }
  ],
  "metadata": {
    "kernelspec": {
      "display_name": "Python 3 (ipykernel)",
      "language": "python",
      "name": "python3"
    },
    "language_info": {
      "codemirror_mode": {
        "name": "ipython",
        "version": 3
      },
      "file_extension": ".py",
      "mimetype": "text/x-python",
      "name": "python",
      "nbconvert_exporter": "python",
      "pygments_lexer": "ipython3",
      "version": "3.8.8"
    },
    "colab": {
      "provenance": [],
      "include_colab_link": true
    }
  },
  "nbformat": 4,
  "nbformat_minor": 5
}